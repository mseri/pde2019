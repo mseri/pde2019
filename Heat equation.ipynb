{
 "cells": [
  {
   "cell_type": "markdown",
   "metadata": {},
   "source": [
    "# The heat equation on the line\n",
    "\n",
    "We consider\n",
    "$$\n",
    "u_t -k u_{xx} = 0, \\quad k\\in\\mathbb{R_+}, x\\in\\mathbb{R}, u(x,0) = \\phi(x)\n",
    "$$\n",
    "\n",
    "As we saw in class, the solution of this problem is\n",
    "\n",
    "$$\n",
    "u(x,t) = \\frac1{\\sqrt{4\\pi k t}}\n",
    "  \\int_{-\\infty}^{\\infty} e^{-\\frac{(x-y)^2}{4kt}}\\phi(y)dy\n",
    " $$"
   ]
  },
  {
   "cell_type": "code",
   "execution_count": 2,
   "metadata": {},
   "outputs": [],
   "source": [
    "import numpy as np\n",
    "\n",
    "from matplotlib import pyplot as plt\n",
    "from matplotlib import animation\n",
    "plt.rc('animation', html='jshtml')\n",
    "\n",
    "from sympy import *\n",
    "init_printing()"
   ]
  },
  {
   "cell_type": "code",
   "execution_count": 23,
   "metadata": {},
   "outputs": [],
   "source": [
    "x,y = symbols('x y', real=True)\n",
    "t = Symbol('t', real=True, positive=True)\n",
    "k = Symbol('k', real=True, positive=True)\n",
    "u = Function('u')\n",
    "phi = Function('phi')"
   ]
  },
  {
   "cell_type": "code",
   "execution_count": 18,
   "metadata": {},
   "outputs": [
    {
     "data": {
      "image/png": "[encoded data removed]",
      "text/latex": [
       "$$- k \\frac{\\partial^{2}}{\\partial x^{2}} u{\\left (x,t \\right )} + \\frac{\\partial}{\\partial t} u{\\left (x,t \\right )} = 0$$"
      ],
      "text/plain": [
       "      2                           \n",
       "     ∂             ∂              \n",
       "- k⋅───(u(x, t)) + ──(u(x, t)) = 0\n",
       "      2            ∂t             \n",
       "    ∂x                            "
      ]
     },
     "execution_count": 18,
     "metadata": {},
     "output_type": "execute_result"
    }
   ],
   "source": [
    "heat_eq = u(x,t).diff(t) - k*u(x,t).diff(x,x)\n",
    "Eq(heat_eq, 0)"
   ]
  },
  {
   "cell_type": "code",
   "execution_count": 24,
   "metadata": {},
   "outputs": [
    {
     "data": {
      "image/png": "[encoded data removed]",
      "text/latex": [
       "$$\\frac{e^{- \\frac{x^{2}}{4 k t}} \\int_{-\\infty}^{\\infty} \\phi{\\left (y \\right )} e^{- \\frac{y^{2}}{4 k t}} e^{\\frac{x y}{2 k t}}\\, dy}{2 \\sqrt{\\pi} \\sqrt{k} \\sqrt{t}}$$"
      ],
      "text/plain": [
       "       ∞                       \n",
       "       ⌠                       \n",
       "    2  ⎮           2           \n",
       "  -x   ⎮         -y     x⋅y    \n",
       " ───── ⎮        ─────  ─────   \n",
       " 4⋅k⋅t ⎮        4⋅k⋅t  2⋅k⋅t   \n",
       "ℯ     ⋅⎮  φ(y)⋅ℯ     ⋅ℯ      dy\n",
       "       ⌡                       \n",
       "       -∞                      \n",
       "───────────────────────────────\n",
       "           2⋅√π⋅√k⋅√t          "
      ]
     },
     "execution_count": 24,
     "metadata": {},
     "output_type": "execute_result"
    }
   ],
   "source": [
    "sol = 1/sqrt(4 * pi * k * t) * integrate(\n",
    "    exp(-(x-y)**2/(4*k*t))*phi(y),\n",
    "    (y, -oo, oo)\n",
    ")\n",
    "sol"
   ]
  },
  {
   "cell_type": "code",
   "execution_count": 26,
   "metadata": {},
   "outputs": [
    {
     "data": {
      "text/plain": [
       "True"
      ]
     },
     "execution_count": 26,
     "metadata": {},
     "output_type": "execute_result"
    }
   ],
   "source": [
    "checkpdesol(heat_eq, simplify(sol))[0]"
   ]
  },
  {
   "cell_type": "code",
   "execution_count": null,
   "metadata": {},
   "outputs": [],
   "source": []
  }
 ],
 "metadata": {
  "kernelspec": {
   "display_name": "Python 3",
   "language": "python",
   "name": "python3"
  },
  "language_info": {
   "codemirror_mode": {
    "name": "ipython",
    "version": 3
   },
   "file_extension": ".py",
   "mimetype": "text/x-python",
   "name": "python",
   "nbconvert_exporter": "python",
   "pygments_lexer": "ipython3",
   "version": "3.7.2"
  }
 },
 "nbformat": 4,
 "nbformat_minor": 2
}
